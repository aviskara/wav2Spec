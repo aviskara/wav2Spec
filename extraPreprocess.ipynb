{
 "cells": [
  {
   "cell_type": "code",
   "execution_count": null,
   "id": "daf94a89",
   "metadata": {},
   "outputs": [],
   "source": [
    "import tensorflow as tf\n",
    "from tensorflow.keras.models import Sequential\n",
    "from tensorflow.keras.layers import Dense, Dropout, Activation, Flatten, Conv2D, MaxPooling2D\n",
    "import pickle\n",
    "import numpy as np\n",
    "import matplotlib.pyplot as plt\n",
    "import os\n",
    "import cv2"
   ]
  },
  {
   "cell_type": "code",
   "execution_count": null,
   "id": "bcfc2afc",
   "metadata": {},
   "outputs": [],
   "source": [
    "DATADIR = \"./data\"\n",
    "CATEGORIES = [\"120\", \"130\"]\n",
    "IMG_SIZE = 100\n",
    "\n",
    "#vertical filter\n",
    "filter1 = np.array([[-1, 0, 1],\n",
    "                   [-2, 0, 2],\n",
    "                   [-1, 0, 1]])\n",
    "\n",
    "#edge filter\n",
    "filter2 = np.array([[0, 1, 0],\n",
    "                   [1, -4, 1],\n",
    "                   [0, 1, 0]])\n",
    "training_data = []\n",
    "\n",
    "\n",
    "for category in CATEGORIES:\n",
    "    path = os.path.join(DATADIR, category)\n",
    "    for img in os.listdir(path):\n",
    "        img_array = cv2.imread(os.path.join(path, img))\n",
    "        \n",
    "        #take out blues\n",
    "        img_array[:,:,2] = 0\n",
    "        \n",
    "        #take out \n",
    "        img_array[:,:,1] = 0  \n",
    "        \n",
    "        #add custom filter\n",
    "        img_array = cv2.filter2D(img_array, ddepth=-1, kernel=filter1)\n",
    "        \n",
    "        #resizing image\n",
    "        img_array = cv2.resize(img_array, (IMG_SIZE*2, IMG_SIZE))\n",
    "        plt.imshow(img_array)\n",
    "        \n",
    "        plt.show()\n",
    "        fig =plt.figure(figsize=(25, 10))\n",
    "        cv2.imwrite(\"./a/4.png\", img_array)\n",
    "        break\n",
    "    break\n",
    "    \n"
   ]
  },
  {
   "cell_type": "code",
   "execution_count": null,
   "id": "b6adb80c",
   "metadata": {},
   "outputs": [],
   "source": [
    "IMG_SIZE = 100\n",
    "\n",
    "new_array = cv2.resize(img_array, (IMG_SIZE*2, IMG_SIZE))\n",
    "plt.imshow(new_array, cmap = 'gray')\n",
    "plt.show()"
   ]
  },
  {
   "cell_type": "code",
   "execution_count": null,
   "id": "aef4d1d5",
   "metadata": {},
   "outputs": [],
   "source": [
    "DATADIR = \"./data\"\n",
    "#CATEGORIES = [\"edm\", \"rck\", \"rap\", \"reg\"]\n",
    "CATEGORIES = [\"120\", \"126\", \"130\"]\n",
    "IMG_SIZE = 100\n",
    "\n",
    "#vertical filter\n",
    "filter1 = np.array([[-1, 0, 1],\n",
    "                   [-2, 0, 2],\n",
    "                   [-1, 0, 1]])\n",
    "\n",
    "#edge filter\n",
    "filter2 = np.array([[0, 1, 0],\n",
    "                   [1, -4, 1],\n",
    "                   [0, 1, 0]])\n",
    "training_data = []\n",
    "\n",
    "def createTrainingData():\n",
    "    for category in CATEGORIES:\n",
    "        path = os.path.join(DATADIR, category)\n",
    "        class_num = CATEGORIES.index(category)\n",
    "        for img in os.listdir(path):\n",
    "            try:\n",
    "                img_array = cv2.imread(os.path.join(path, img))\n",
    "                img_array[:,:,2] = 0\n",
    "                img_array[:,:,1] = 0\n",
    "                #img_array = cv2.filter2D(img_array, ddepth=-1, kernel=filter1)\n",
    "                new_array = cv2.resize(img_array, (IMG_SIZE*2, IMG_SIZE))\n",
    "                training_data.append([new_array, class_num])\n",
    "            except Exception as e:\n",
    "                pass\n",
    "            \n",
    "createTrainingData()"
   ]
  },
  {
   "cell_type": "code",
   "execution_count": null,
   "id": "29c61689",
   "metadata": {},
   "outputs": [],
   "source": [
    "\n",
    "print(len(training_data))\n"
   ]
  },
  {
   "cell_type": "code",
   "execution_count": null,
   "id": "eff6b5ec",
   "metadata": {},
   "outputs": [],
   "source": [
    "import random\n",
    "\n",
    "random.shuffle(training_data)"
   ]
  },
  {
   "cell_type": "code",
   "execution_count": null,
   "id": "07dd4ac7",
   "metadata": {},
   "outputs": [],
   "source": [
    "for sample in training_data[:20]:\n",
    "    print(sample[1])"
   ]
  },
  {
   "cell_type": "code",
   "execution_count": null,
   "id": "7923ae3f",
   "metadata": {},
   "outputs": [],
   "source": [
    "X = []\n",
    "y = []"
   ]
  },
  {
   "cell_type": "code",
   "execution_count": null,
   "id": "14e09e1f",
   "metadata": {},
   "outputs": [],
   "source": [
    "for features, label in training_data:\n",
    "    X.append(features)\n",
    "    y.append(label)\n",
    "    \n",
    "X = np.array(X).reshape(-1, IMG_SIZE*2, IMG_SIZE, 3)\n",
    "y = np.array(y)"
   ]
  },
  {
   "cell_type": "code",
   "execution_count": null,
   "id": "487394bb",
   "metadata": {},
   "outputs": [],
   "source": [
    "pickle_out = open(\"X_bpm_r.pickle\", \"wb\")\n",
    "pickle.dump(X, pickle_out)\n",
    "pickle_out.close()\n",
    "\n",
    "pickle_out = open(\"y_bpm_r.pickle\", \"wb\")\n",
    "pickle.dump(y, pickle_out)\n",
    "pickle_out.close()"
   ]
  },
  {
   "cell_type": "code",
   "execution_count": null,
   "id": "fc912701",
   "metadata": {
    "scrolled": false
   },
   "outputs": [],
   "source": [
    "print(X[3])"
   ]
  },
  {
   "cell_type": "code",
   "execution_count": null,
   "id": "e9dcc365",
   "metadata": {},
   "outputs": [],
   "source": [
    "DATADIR = \"./data\"\n",
    "CATEGORIES = [\"120\", \"130\"]\n",
    "\n",
    "filter1 = np.array([[-1, 0, 1],\n",
    "                   [-1, 0, 1],\n",
    "                   [-1, 0, 1]])\n",
    "\n",
    "filter2 = np.array([[0, 1, 0],\n",
    "                   [1, -4, 1],\n",
    "                   [0, 1, 0]])\n",
    "\n",
    "for category in CATEGORIES:\n",
    "    path = os.path.join(DATADIR, category)\n",
    "    for img in os.listdir(path):\n",
    "        img_array = cv2.imread(os.path.join(path, img))\n",
    "        img_array[:,:,2] = 0\n",
    "        img_array[:,:,1] = 0\n",
    "        #img_array = cv2.filter2D(img_array, ddepth=-1, kernel=filter1)\n",
    "        plt.imshow(img_array)\n",
    "        plt.show()\n",
    "        break\n",
    "    break"
   ]
  },
  {
   "cell_type": "code",
   "execution_count": null,
   "id": "b7892ab9",
   "metadata": {},
   "outputs": [],
   "source": [
    "DATADIR = \"./data\"\n",
    "CATEGORIES = [\"120\",\"126\", \"130\"]\n",
    "\n",
    "filter1 = np.array([[-1, 0, 1],\n",
    "                   [-1, 0, 1],\n",
    "                   [-1, 0, 1]])\n",
    "\n",
    "filter2 = np.array([[0, 1, 0],\n",
    "                   [1, -4, 1],\n",
    "                   [0, 1, 0]])\n",
    "training_data = []\n",
    "\n",
    "def createTrainingData():\n",
    "    for category in CATEGORIES:\n",
    "        path = os.path.join(DATADIR, category)\n",
    "        class_num = CATEGORIES.index(category)\n",
    "        for img in os.listdir(path):\n",
    "            try:\n",
    "                img_array = cv2.imread(os.path.join(path, img))\n",
    "                img_array[:,:,2] = 0\n",
    "                img_array[:,:,1] = 0\n",
    "                img_array = cv2.filter2D(img_array, ddepth=-1, kernel=filter1)\n",
    "                new_array = cv2.resize(img_array, (IMG_SIZE*2, IMG_SIZE))\n",
    "                training_data.append([new_array, class_num])\n",
    "            except Exception as e:\n",
    "                pass\n",
    "            \n",
    "createTrainingData()"
   ]
  },
  {
   "cell_type": "code",
   "execution_count": null,
   "id": "23ca9282",
   "metadata": {},
   "outputs": [],
   "source": [
    "import os\n",
    "\n",
    "path, dirs, files = next(os.walk(\"./data/edm\"))\n",
    "file_count = len(files)\n",
    "print(file_count)"
   ]
  }
 ],
 "metadata": {
  "kernelspec": {
   "display_name": "Python 3 (ipykernel)",
   "language": "python",
   "name": "python3"
  },
  "language_info": {
   "codemirror_mode": {
    "name": "ipython",
    "version": 3
   },
   "file_extension": ".py",
   "mimetype": "text/x-python",
   "name": "python",
   "nbconvert_exporter": "python",
   "pygments_lexer": "ipython3",
   "version": "3.8.11"
  }
 },
 "nbformat": 4,
 "nbformat_minor": 5
}
