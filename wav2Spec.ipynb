{
 "cells": [
  {
   "cell_type": "code",
   "execution_count": null,
   "metadata": {},
   "outputs": [],
   "source": [
    "import matplotlib.pyplot as plt\n",
    "import librosa.display\n",
    "import os\n",
    "import numpy as np\n",
    "import pandas as pd\n",
    "import librosa\n",
    "from pydub import AudioSegment\n",
    "import math\n",
    "import random\n",
    "from matplotlib.backends.backend_agg import FigureCanvasAgg as FigureCanvas\n",
    "import csv\n",
    "import shutil\n",
    "\n"
   ]
  },
  {
   "cell_type": "code",
   "execution_count": null,
   "metadata": {},
   "outputs": [],
   "source": [
    "class SplitWavAudioMubin():\n",
    "    def __init__(self, folder, filename):\n",
    "        self.folder = folder\n",
    "        self.filename = filename\n",
    "        self.filepath = folder + '/' + filename\n",
    "        self.audio = AudioSegment.from_wav(self.filepath)\n",
    "    \n",
    "    def get_duration(self):\n",
    "        return self.audio.duration_seconds\n",
    "    \n",
    "    def single_split(self, from_min, to_min, split_filename):\n",
    "        t1 = from_min * 1000\n",
    "        t2 = to_min  * 1000\n",
    "        split_audio = self.audio[t1:t2]\n",
    "        split_audio.export('./data/splitMusic' + '/' + split_filename, format=\"wav\")\n",
    "        \n",
    "    def multiple_split(self, sec_per_split, start_sec, end_bef, rand_amount):\n",
    "        total_mins = math.floor(self.get_duration())\n",
    "        #print(total_mins)\n",
    "        for i in range(rand_amount):\n",
    "            rand_start = random.randint(start_sec, total_mins-end_bef)\n",
    "            split_fn = self.filename.replace('.wav','') + '_' + str(rand_start) +'.wav'\n",
    "            self.single_split(rand_start, rand_start+sec_per_split, split_fn)\n",
    "            print(str(i) + ' Done')\n",
    "            #if i == total_mins - min_per_split:\n",
    "                #print('All splited successfully')"
   ]
  },
  {
   "cell_type": "code",
   "execution_count": null,
   "metadata": {},
   "outputs": [],
   "source": [
    "def plot_spectrogram(Y, sr, hop_length, filename, y_axis=\"log\"):\n",
    "    fig = plt.figure(figsize=(25, 10))\n",
    "    canvas = FigureCanvas(fig)\n",
    "    ax = fig.add_subplot(111)\n",
    "    librosa.display.specshow(Y, sr=sr, hop_length=hop_length, y_axis=y_axis)\n",
    "    ax.axes.yaxis.set_visible(False)\n",
    "\n",
    "    fig.savefig(\"./images/\"+filename, bbox_inches='tight', pad_inches=0)"
   ]
  },
  {
   "cell_type": "code",
   "execution_count": null,
   "metadata": {},
   "outputs": [],
   "source": [
    "def createCSV():\n",
    "    header = ['name', 'bpm']\n",
    "    lst = os.listdir(\"./data/images\")\n",
    "    #data = convert(header, 0, lst)\n",
    "    #print(data)\n",
    "    with open('data.csv', 'w', newline='') as f:\n",
    "        writer = csv.writer(f)\n",
    "        writer.writerow(header)\n",
    "        totLst = []\n",
    "        for i in range (len(lst)):\n",
    "            tmpLst = []\n",
    "            tmpLst.append(lst[i][4:])\n",
    "            tmpLst.append(lst[i][0:3]) \n",
    "            totLst.append(tmpLst)\n",
    "            print(tmpLst)\n",
    "            writer.writerows([tmpLst])\n"
   ]
  },
  {
   "cell_type": "code",
   "execution_count": null,
   "metadata": {},
   "outputs": [],
   "source": [
    "def sortImgs():\n",
    "    path = '.'\n",
    "    lst = os.listdir(\"./images\")\n",
    "    if not os.path.exists(path+\"/data\"):\n",
    "        os.makedirs(path+'/data')\n",
    "    for fle in lst:\n",
    "        bpm = fle[0:3]\n",
    "        if os.path.exists(path+\"/data/\"+bpm):\n",
    "            shutil.copy(path+'/images/'+fle, path+'/data/'+bpm+'/'+fle)\n",
    "        else:\n",
    "            os.makedirs(path+'/data/'+bpm)\n",
    "            shutil.copy(path+'/images/'+fle, path+'/data/'+bpm+'/'+fle)"
   ]
  },
  {
   "cell_type": "code",
   "execution_count": null,
   "metadata": {},
   "outputs": [],
   "source": []
  },
  {
   "cell_type": "code",
   "execution_count": null,
   "metadata": {},
   "outputs": [],
   "source": [
    "#function to splice a wav file into random multiple segments\n",
    "mylist = os.listdir(\"./music\")\n",
    "print(mylist)\n",
    "#print (len(mylist))\n",
    "FRAME_SIZE = 2048\n",
    "HOP_SIZE = 512\n",
    "\n",
    "for x in mylist:\n",
    "    print(x)\n",
    "    folder = './music'\n",
    "    file = x\n",
    "    split_wav = SplitWavAudioMubin(folder, file)\n",
    "    split_wav.multiple_split(sec_per_split=6, start_sec=60,  end_bef=60, rand_amount=10)"
   ]
  },
  {
   "cell_type": "code",
   "execution_count": null,
   "metadata": {},
   "outputs": [],
   "source": [
    "mylist = os.listdir(\"./splitMusic\")\n",
    "for x in mylist:\n",
    "    filename = x.replace('.wav','')\n",
    "    filelocation = \"./splitMusic/\"+ x\n",
    "    scale, sr = librosa.load(filelocation)\n",
    "    S_scale = librosa.stft(scale, n_fft=FRAME_SIZE, hop_length=HOP_SIZE)\n",
    "    Y_scale = np.abs(S_scale) ** 2\n",
    "    Y_scale.shape\n",
    "    Y_log_scale = librosa.power_to_db(Y_scale)\n",
    "    plot_spectrogram(Y_log_scale, sr, HOP_SIZE, filename, y_axis=\"log\")\n"
   ]
  },
  {
   "cell_type": "code",
   "execution_count": null,
   "metadata": {},
   "outputs": [],
   "source": [
    "createCSV()"
   ]
  },
  {
   "cell_type": "code",
   "execution_count": null,
   "metadata": {},
   "outputs": [],
   "source": [
    "sortImgs()"
   ]
  },
  {
   "cell_type": "code",
   "execution_count": null,
   "metadata": {},
   "outputs": [],
   "source": []
  }
 ],
 "metadata": {
  "kernelspec": {
   "display_name": "Python 3 (ipykernel)",
   "language": "python",
   "name": "python3"
  },
  "language_info": {
   "codemirror_mode": {
    "name": "ipython",
    "version": 3
   },
   "file_extension": ".py",
   "mimetype": "text/x-python",
   "name": "python",
   "nbconvert_exporter": "python",
   "pygments_lexer": "ipython3",
   "version": "3.8.11"
  }
 },
 "nbformat": 4,
 "nbformat_minor": 4
}
