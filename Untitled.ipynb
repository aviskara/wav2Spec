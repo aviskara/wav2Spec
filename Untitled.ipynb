{
 "cells": [
  {
   "cell_type": "code",
   "execution_count": 13,
   "id": "fa99c2fd",
   "metadata": {},
   "outputs": [
    {
     "name": "stdout",
     "output_type": "stream",
     "text": [
      "Epoch 1/20\n",
      "18/18 [==============================] - 3s 157ms/step - loss: 0.0000e+00 - accuracy: 0.3324 - val_loss: 0.0000e+00 - val_accuracy: 0.3077\n",
      "Epoch 2/20\n",
      "18/18 [==============================] - 3s 145ms/step - loss: 0.0000e+00 - accuracy: 0.3410 - val_loss: 0.0000e+00 - val_accuracy: 0.3077\n",
      "Epoch 3/20\n",
      "18/18 [==============================] - 3s 144ms/step - loss: 0.0000e+00 - accuracy: 0.3496 - val_loss: 0.0000e+00 - val_accuracy: 0.3077\n",
      "Epoch 4/20\n",
      "18/18 [==============================] - 3s 154ms/step - loss: 0.0000e+00 - accuracy: 0.3152 - val_loss: 0.0000e+00 - val_accuracy: 0.2821\n",
      "Epoch 5/20\n",
      "18/18 [==============================] - 3s 150ms/step - loss: 0.0000e+00 - accuracy: 0.3295 - val_loss: 0.0000e+00 - val_accuracy: 0.3077\n",
      "Epoch 6/20\n",
      "18/18 [==============================] - 3s 158ms/step - loss: 0.0000e+00 - accuracy: 0.3496 - val_loss: 0.0000e+00 - val_accuracy: 0.3077\n",
      "Epoch 7/20\n",
      "18/18 [==============================] - 3s 147ms/step - loss: 0.0000e+00 - accuracy: 0.3438 - val_loss: 0.0000e+00 - val_accuracy: 0.3077\n",
      "Epoch 8/20\n",
      "18/18 [==============================] - 3s 143ms/step - loss: 0.0000e+00 - accuracy: 0.3410 - val_loss: 0.0000e+00 - val_accuracy: 0.3077\n",
      "Epoch 9/20\n",
      "18/18 [==============================] - 3s 143ms/step - loss: 0.0000e+00 - accuracy: 0.3553 - val_loss: 0.0000e+00 - val_accuracy: 0.3846\n",
      "Epoch 10/20\n",
      "18/18 [==============================] - 3s 152ms/step - loss: 0.0000e+00 - accuracy: 0.3983 - val_loss: 0.0000e+00 - val_accuracy: 0.3333\n",
      "Epoch 11/20\n",
      "18/18 [==============================] - 3s 144ms/step - loss: 0.0000e+00 - accuracy: 0.3582 - val_loss: 0.0000e+00 - val_accuracy: 0.3333\n",
      "Epoch 12/20\n",
      "18/18 [==============================] - 3s 146ms/step - loss: 0.0000e+00 - accuracy: 0.3553 - val_loss: 0.0000e+00 - val_accuracy: 0.3333\n",
      "Epoch 13/20\n",
      "18/18 [==============================] - 3s 143ms/step - loss: 0.0000e+00 - accuracy: 0.3582 - val_loss: 0.0000e+00 - val_accuracy: 0.3077\n",
      "Epoch 14/20\n",
      "18/18 [==============================] - 3s 145ms/step - loss: 0.0000e+00 - accuracy: 0.3582 - val_loss: 0.0000e+00 - val_accuracy: 0.3590\n",
      "Epoch 15/20\n",
      "18/18 [==============================] - 3s 147ms/step - loss: 0.0000e+00 - accuracy: 0.3496 - val_loss: 0.0000e+00 - val_accuracy: 0.3077\n",
      "Epoch 16/20\n",
      "18/18 [==============================] - 3s 143ms/step - loss: 0.0000e+00 - accuracy: 0.3209 - val_loss: 0.0000e+00 - val_accuracy: 0.3590\n",
      "Epoch 17/20\n",
      "18/18 [==============================] - 3s 145ms/step - loss: 0.0000e+00 - accuracy: 0.3438 - val_loss: 0.0000e+00 - val_accuracy: 0.3333\n",
      "Epoch 18/20\n",
      "18/18 [==============================] - 3s 147ms/step - loss: 0.0000e+00 - accuracy: 0.3582 - val_loss: 0.0000e+00 - val_accuracy: 0.3333\n",
      "Epoch 19/20\n",
      "18/18 [==============================] - 3s 145ms/step - loss: 0.0000e+00 - accuracy: 0.3524 - val_loss: 0.0000e+00 - val_accuracy: 0.3333\n",
      "Epoch 20/20\n",
      "18/18 [==============================] - 3s 146ms/step - loss: 0.0000e+00 - accuracy: 0.3496 - val_loss: 0.0000e+00 - val_accuracy: 0.3077\n"
     ]
    },
    {
     "data": {
      "text/plain": [
       "<keras.callbacks.History at 0x22792cdda90>"
      ]
     },
     "execution_count": 13,
     "metadata": {},
     "output_type": "execute_result"
    }
   ],
   "source": [
    "import tensorflow as tf\n",
    "from tensorflow.keras.models import Sequential\n",
    "from tensorflow.keras.layers import Dense, Dropout, Activation, Flatten, Conv2D, MaxPooling2D\n",
    "import pickle\n",
    "\n",
    "\n",
    "X = pickle.load(open(\"X.pickle\", \"rb\"))\n",
    "y = pickle.load(open(\"y.pickle\", \"rb\"))\n",
    "\n",
    "X = X/255.0\n",
    "\n",
    "model = Sequential()\n",
    "model.add(Conv2D(64, (3,3), input_shape = X.shape[1:]))\n",
    "model.add(Activation(\"relu\"))\n",
    "model.add(MaxPooling2D(pool_size=(2,2)))\n",
    "\n",
    "model.add(Conv2D(64, (3,3)))\n",
    "model.add(Activation(\"relu\"))\n",
    "model.add(MaxPooling2D(pool_size=(2,2)))\n",
    "\n",
    "model.add(Flatten())\n",
    "model.add(Dense(64))\n",
    "\n",
    "model.add(Dense(1))\n",
    "model.add(Activation('sigmoid'))\n",
    "\n",
    "model.compile(loss=\"categorical_crossentropy\", optimizer=\"adam\", metrics=['accuracy'])\n",
    "\n",
    "model.fit(X, y, batch_size=20, epochs = 20, validation_split=0.1)"
   ]
  },
  {
   "cell_type": "code",
   "execution_count": 2,
   "id": "dfcf6157",
   "metadata": {},
   "outputs": [],
   "source": [
    "import tensorflow as tf\n",
    "from tensorflow.keras.models import Sequential\n",
    "from tensorflow.keras.layers import Dense, Dropout, Activation, Flatten, Conv2D, MaxPooling2D\n",
    "import pickle\n"
   ]
  },
  {
   "cell_type": "code",
   "execution_count": 3,
   "id": "4dbfb28e",
   "metadata": {},
   "outputs": [
    {
     "name": "stdout",
     "output_type": "stream",
     "text": [
      "Epoch 1/20\n",
      "18/18 [==============================] - 5s 160ms/step - loss: 0.0000e+00 - accuracy: 0.3238 - val_loss: 0.0000e+00 - val_accuracy: 0.3846\n",
      "Epoch 2/20\n",
      "18/18 [==============================] - 3s 147ms/step - loss: 0.0000e+00 - accuracy: 0.3266 - val_loss: 0.0000e+00 - val_accuracy: 0.3846\n",
      "Epoch 3/20\n",
      "18/18 [==============================] - 3s 149ms/step - loss: 0.0000e+00 - accuracy: 0.3725 - val_loss: 0.0000e+00 - val_accuracy: 0.3846\n",
      "Epoch 4/20\n",
      "18/18 [==============================] - 3s 143ms/step - loss: 0.0000e+00 - accuracy: 0.3266 - val_loss: 0.0000e+00 - val_accuracy: 0.3846\n",
      "Epoch 5/20\n",
      "18/18 [==============================] - 3s 147ms/step - loss: 0.0000e+00 - accuracy: 0.4527 - val_loss: 0.0000e+00 - val_accuracy: 0.4359\n",
      "Epoch 6/20\n",
      "18/18 [==============================] - 3s 144ms/step - loss: 0.0000e+00 - accuracy: 0.3381 - val_loss: 0.0000e+00 - val_accuracy: 0.3846\n",
      "Epoch 7/20\n",
      "18/18 [==============================] - 3s 146ms/step - loss: 0.0000e+00 - accuracy: 0.4269 - val_loss: 0.0000e+00 - val_accuracy: 0.5897\n",
      "Epoch 8/20\n",
      "18/18 [==============================] - 3s 152ms/step - loss: 0.0000e+00 - accuracy: 0.3496 - val_loss: 0.0000e+00 - val_accuracy: 0.4872\n",
      "Epoch 9/20\n",
      "18/18 [==============================] - 3s 145ms/step - loss: 0.0000e+00 - accuracy: 0.3725 - val_loss: 0.0000e+00 - val_accuracy: 0.3846\n",
      "Epoch 10/20\n",
      "18/18 [==============================] - 3s 145ms/step - loss: 0.0000e+00 - accuracy: 0.3324 - val_loss: 0.0000e+00 - val_accuracy: 0.3846\n",
      "Epoch 11/20\n",
      "18/18 [==============================] - 3s 150ms/step - loss: 0.0000e+00 - accuracy: 0.3324 - val_loss: 0.0000e+00 - val_accuracy: 0.3846\n",
      "Epoch 12/20\n",
      "18/18 [==============================] - 3s 145ms/step - loss: 0.0000e+00 - accuracy: 0.3381 - val_loss: 0.0000e+00 - val_accuracy: 0.3846\n",
      "Epoch 13/20\n",
      "18/18 [==============================] - 3s 148ms/step - loss: 0.0000e+00 - accuracy: 0.3782 - val_loss: 0.0000e+00 - val_accuracy: 0.4359\n",
      "Epoch 14/20\n",
      "18/18 [==============================] - 3s 148ms/step - loss: 0.0000e+00 - accuracy: 0.4871 - val_loss: 0.0000e+00 - val_accuracy: 0.6410\n",
      "Epoch 15/20\n",
      "18/18 [==============================] - 3s 148ms/step - loss: 0.0000e+00 - accuracy: 0.4699 - val_loss: 0.0000e+00 - val_accuracy: 0.3846\n",
      "Epoch 16/20\n",
      "18/18 [==============================] - 3s 147ms/step - loss: 0.0000e+00 - accuracy: 0.3639 - val_loss: 0.0000e+00 - val_accuracy: 0.3846\n",
      "Epoch 17/20\n",
      "18/18 [==============================] - 3s 145ms/step - loss: 0.0000e+00 - accuracy: 0.3553 - val_loss: 0.0000e+00 - val_accuracy: 0.3846\n",
      "Epoch 18/20\n",
      "18/18 [==============================] - 3s 142ms/step - loss: 0.0000e+00 - accuracy: 0.4413 - val_loss: 0.0000e+00 - val_accuracy: 0.4359\n",
      "Epoch 19/20\n",
      "18/18 [==============================] - 3s 151ms/step - loss: 0.0000e+00 - accuracy: 0.3553 - val_loss: 0.0000e+00 - val_accuracy: 0.3846\n",
      "Epoch 20/20\n",
      "18/18 [==============================] - 3s 145ms/step - loss: 0.0000e+00 - accuracy: 0.3266 - val_loss: 0.0000e+00 - val_accuracy: 0.3846\n"
     ]
    },
    {
     "data": {
      "text/plain": [
       "<keras.callbacks.History at 0x288ad298130>"
      ]
     },
     "execution_count": 3,
     "metadata": {},
     "output_type": "execute_result"
    }
   ],
   "source": [
    "X = pickle.load(open(\"X_c.pickle\", \"rb\"))\n",
    "y = pickle.load(open(\"y_c.pickle\", \"rb\"))\n",
    "\n",
    "X = X/255.0\n",
    "\n",
    "model = Sequential()\n",
    "model.add(Conv2D(64, (3,3), input_shape = X.shape[1:]))\n",
    "model.add(Activation(\"relu\"))\n",
    "model.add(MaxPooling2D(pool_size=(2,2)))\n",
    "\n",
    "model.add(Conv2D(64, (3,3)))\n",
    "model.add(Activation(\"relu\"))\n",
    "model.add(MaxPooling2D(pool_size=(2,2)))\n",
    "\n",
    "model.add(Flatten())\n",
    "model.add(Dense(64))\n",
    "\n",
    "model.add(Dense(1))\n",
    "model.add(Activation('sigmoid'))\n",
    "\n",
    "model.compile(loss=\"categorical_crossentropy\", optimizer=\"adam\", metrics=['accuracy'])\n",
    "\n",
    "model.fit(X, y, batch_size=20, epochs = 20, validation_split=0.1)\n"
   ]
  },
  {
   "cell_type": "code",
   "execution_count": 5,
   "id": "23f68135",
   "metadata": {},
   "outputs": [
    {
     "name": "stdout",
     "output_type": "stream",
     "text": [
      "Epoch 1/20\n",
      "12/12 [==============================] - 2s 155ms/step - loss: 4.9426 - accuracy: 0.4721 - val_loss: 0.7287 - val_accuracy: 0.3846\n",
      "Epoch 2/20\n",
      "12/12 [==============================] - 2s 146ms/step - loss: 0.6984 - accuracy: 0.5150 - val_loss: 0.6909 - val_accuracy: 0.3077\n",
      "Epoch 3/20\n",
      "12/12 [==============================] - 2s 149ms/step - loss: 0.6800 - accuracy: 0.5708 - val_loss: 0.6808 - val_accuracy: 0.3462\n",
      "Epoch 4/20\n",
      "12/12 [==============================] - 2s 146ms/step - loss: 0.6468 - accuracy: 0.6052 - val_loss: 0.6884 - val_accuracy: 0.4231\n",
      "Epoch 5/20\n",
      "12/12 [==============================] - 2s 151ms/step - loss: 0.5564 - accuracy: 0.6652 - val_loss: 0.5965 - val_accuracy: 0.6538\n",
      "Epoch 6/20\n",
      "12/12 [==============================] - 2s 148ms/step - loss: 0.5283 - accuracy: 0.7296 - val_loss: 0.5974 - val_accuracy: 0.6923\n",
      "Epoch 7/20\n",
      "12/12 [==============================] - 2s 149ms/step - loss: 0.4376 - accuracy: 0.8412 - val_loss: 0.5012 - val_accuracy: 0.7692\n",
      "Epoch 8/20\n",
      "12/12 [==============================] - 2s 151ms/step - loss: 0.4030 - accuracy: 0.8369 - val_loss: 0.4705 - val_accuracy: 0.8077\n",
      "Epoch 9/20\n",
      "12/12 [==============================] - 2s 146ms/step - loss: 0.2797 - accuracy: 0.9099 - val_loss: 0.4122 - val_accuracy: 0.8077\n",
      "Epoch 10/20\n",
      "12/12 [==============================] - 2s 149ms/step - loss: 0.2476 - accuracy: 0.9227 - val_loss: 0.7248 - val_accuracy: 0.6154\n",
      "Epoch 11/20\n",
      "12/12 [==============================] - 2s 146ms/step - loss: 0.2301 - accuracy: 0.9185 - val_loss: 0.4484 - val_accuracy: 0.8077\n",
      "Epoch 12/20\n",
      "12/12 [==============================] - 2s 144ms/step - loss: 0.1656 - accuracy: 0.9485 - val_loss: 0.4981 - val_accuracy: 0.7308\n",
      "Epoch 13/20\n",
      "12/12 [==============================] - 2s 152ms/step - loss: 0.1473 - accuracy: 0.9657 - val_loss: 0.2771 - val_accuracy: 0.8846\n",
      "Epoch 14/20\n",
      "12/12 [==============================] - 2s 154ms/step - loss: 0.1388 - accuracy: 0.9614 - val_loss: 0.2928 - val_accuracy: 0.8077\n",
      "Epoch 15/20\n",
      "12/12 [==============================] - 2s 148ms/step - loss: 0.0873 - accuracy: 0.9742 - val_loss: 0.2431 - val_accuracy: 0.8846\n",
      "Epoch 16/20\n",
      "12/12 [==============================] - 2s 147ms/step - loss: 0.0624 - accuracy: 0.9914 - val_loss: 0.3508 - val_accuracy: 0.8462\n",
      "Epoch 17/20\n",
      "12/12 [==============================] - 2s 145ms/step - loss: 0.0456 - accuracy: 1.0000 - val_loss: 0.3950 - val_accuracy: 0.8846\n",
      "Epoch 18/20\n",
      "12/12 [==============================] - 2s 147ms/step - loss: 0.0406 - accuracy: 0.9957 - val_loss: 0.2270 - val_accuracy: 0.8846\n",
      "Epoch 19/20\n",
      "12/12 [==============================] - 2s 152ms/step - loss: 0.0356 - accuracy: 0.9957 - val_loss: 0.2841 - val_accuracy: 0.8846\n",
      "Epoch 20/20\n",
      "12/12 [==============================] - 2s 152ms/step - loss: 0.0281 - accuracy: 1.0000 - val_loss: 0.2393 - val_accuracy: 0.8846\n"
     ]
    },
    {
     "data": {
      "text/plain": [
       "<keras.callbacks.History at 0x288b5eb94f0>"
      ]
     },
     "execution_count": 5,
     "metadata": {},
     "output_type": "execute_result"
    }
   ],
   "source": [
    "X = pickle.load(open(\"X_b.pickle\", \"rb\"))\n",
    "y = pickle.load(open(\"y_b.pickle\", \"rb\"))\n",
    "\n",
    "X = X/255.0\n",
    "\n",
    "model = Sequential()\n",
    "model.add(Conv2D(64, (3,3), input_shape = X.shape[1:]))\n",
    "model.add(Activation(\"relu\"))\n",
    "model.add(MaxPooling2D(pool_size=(2,2)))\n",
    "\n",
    "model.add(Conv2D(64, (3,3)))\n",
    "model.add(Activation(\"relu\"))\n",
    "model.add(MaxPooling2D(pool_size=(2,2)))\n",
    "\n",
    "model.add(Flatten())\n",
    "model.add(Dense(64))\n",
    "\n",
    "model.add(Dense(1))\n",
    "model.add(Activation('sigmoid'))\n",
    "\n",
    "model.compile(loss=\"binary_crossentropy\", optimizer=\"adam\", metrics=['accuracy'])\n",
    "\n",
    "model.fit(X, y, batch_size=20, epochs = 20, validation_split=0.1)"
   ]
  },
  {
   "cell_type": "code",
   "execution_count": null,
   "id": "17a38c65",
   "metadata": {},
   "outputs": [],
   "source": []
  },
  {
   "cell_type": "code",
   "execution_count": null,
   "id": "3cd2d65f",
   "metadata": {},
   "outputs": [],
   "source": []
  }
 ],
 "metadata": {
  "kernelspec": {
   "display_name": "Python 3 (ipykernel)",
   "language": "python",
   "name": "python3"
  },
  "language_info": {
   "codemirror_mode": {
    "name": "ipython",
    "version": 3
   },
   "file_extension": ".py",
   "mimetype": "text/x-python",
   "name": "python",
   "nbconvert_exporter": "python",
   "pygments_lexer": "ipython3",
   "version": "3.8.11"
  }
 },
 "nbformat": 4,
 "nbformat_minor": 5
}
